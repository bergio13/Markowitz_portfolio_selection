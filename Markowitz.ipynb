{
 "cells": [
  {
   "cell_type": "code",
   "execution_count": 94,
   "id": "bc9c86b3-0968-4640-b6c2-1732f896843a",
   "metadata": {},
   "outputs": [],
   "source": [
    "import pandas as pd\n",
    "import numpy as np\n",
    "from scipy import optimize\n",
    "from scipy.optimize import Bounds\n",
    "import matplotlib.pyplot as plt"
   ]
  },
  {
   "cell_type": "code",
   "execution_count": 95,
   "id": "c7fbcd7b-0c8f-4db4-8935-03554ad65ffb",
   "metadata": {},
   "outputs": [
    {
     "data": {
      "text/html": [
       "<div>\n",
       "<style scoped>\n",
       "    .dataframe tbody tr th:only-of-type {\n",
       "        vertical-align: middle;\n",
       "    }\n",
       "\n",
       "    .dataframe tbody tr th {\n",
       "        vertical-align: top;\n",
       "    }\n",
       "\n",
       "    .dataframe thead th {\n",
       "        text-align: right;\n",
       "    }\n",
       "</style>\n",
       "<table border=\"1\" class=\"dataframe\">\n",
       "  <thead>\n",
       "    <tr style=\"text-align: right;\">\n",
       "      <th></th>\n",
       "      <th>Cnsmr</th>\n",
       "      <th>Manuf</th>\n",
       "      <th>HiTec</th>\n",
       "      <th>Hlth</th>\n",
       "      <th>Other</th>\n",
       "    </tr>\n",
       "  </thead>\n",
       "  <tbody>\n",
       "    <tr>\n",
       "      <th>198001</th>\n",
       "      <td>0.0397</td>\n",
       "      <td>0.0874</td>\n",
       "      <td>0.0403</td>\n",
       "      <td>-0.0140</td>\n",
       "      <td>0.0527</td>\n",
       "    </tr>\n",
       "    <tr>\n",
       "      <th>198002</th>\n",
       "      <td>-0.0603</td>\n",
       "      <td>0.0305</td>\n",
       "      <td>-0.0394</td>\n",
       "      <td>-0.0528</td>\n",
       "      <td>-0.0368</td>\n",
       "    </tr>\n",
       "    <tr>\n",
       "      <th>198003</th>\n",
       "      <td>-0.0875</td>\n",
       "      <td>-0.1407</td>\n",
       "      <td>-0.0958</td>\n",
       "      <td>-0.0298</td>\n",
       "      <td>-0.1274</td>\n",
       "    </tr>\n",
       "    <tr>\n",
       "      <th>198004</th>\n",
       "      <td>0.0279</td>\n",
       "      <td>0.0584</td>\n",
       "      <td>0.0303</td>\n",
       "      <td>0.0415</td>\n",
       "      <td>0.0582</td>\n",
       "    </tr>\n",
       "    <tr>\n",
       "      <th>198005</th>\n",
       "      <td>0.0689</td>\n",
       "      <td>0.0422</td>\n",
       "      <td>0.0363</td>\n",
       "      <td>0.0634</td>\n",
       "      <td>0.0767</td>\n",
       "    </tr>\n",
       "    <tr>\n",
       "      <th>...</th>\n",
       "      <td>...</td>\n",
       "      <td>...</td>\n",
       "      <td>...</td>\n",
       "      <td>...</td>\n",
       "      <td>...</td>\n",
       "    </tr>\n",
       "    <tr>\n",
       "      <th>201804</th>\n",
       "      <td>0.0099</td>\n",
       "      <td>0.0121</td>\n",
       "      <td>-0.0060</td>\n",
       "      <td>-0.0038</td>\n",
       "      <td>0.0037</td>\n",
       "    </tr>\n",
       "    <tr>\n",
       "      <th>201805</th>\n",
       "      <td>0.0038</td>\n",
       "      <td>0.0204</td>\n",
       "      <td>0.0560</td>\n",
       "      <td>0.0219</td>\n",
       "      <td>0.0101</td>\n",
       "    </tr>\n",
       "    <tr>\n",
       "      <th>201806</th>\n",
       "      <td>0.0310</td>\n",
       "      <td>-0.0001</td>\n",
       "      <td>0.0047</td>\n",
       "      <td>0.0143</td>\n",
       "      <td>-0.0114</td>\n",
       "    </tr>\n",
       "    <tr>\n",
       "      <th>201807</th>\n",
       "      <td>0.0263</td>\n",
       "      <td>0.0328</td>\n",
       "      <td>0.0223</td>\n",
       "      <td>0.0600</td>\n",
       "      <td>0.0390</td>\n",
       "    </tr>\n",
       "    <tr>\n",
       "      <th>201808</th>\n",
       "      <td>0.0451</td>\n",
       "      <td>-0.0116</td>\n",
       "      <td>0.0658</td>\n",
       "      <td>0.0425</td>\n",
       "      <td>0.0227</td>\n",
       "    </tr>\n",
       "  </tbody>\n",
       "</table>\n",
       "<p>464 rows × 5 columns</p>\n",
       "</div>"
      ],
      "text/plain": [
       "         Cnsmr   Manuf   HiTec   Hlth    Other\n",
       "198001  0.0397  0.0874  0.0403 -0.0140  0.0527\n",
       "198002 -0.0603  0.0305 -0.0394 -0.0528 -0.0368\n",
       "198003 -0.0875 -0.1407 -0.0958 -0.0298 -0.1274\n",
       "198004  0.0279  0.0584  0.0303  0.0415  0.0582\n",
       "198005  0.0689  0.0422  0.0363  0.0634  0.0767\n",
       "...        ...     ...     ...     ...     ...\n",
       "201804  0.0099  0.0121 -0.0060 -0.0038  0.0037\n",
       "201805  0.0038  0.0204  0.0560  0.0219  0.0101\n",
       "201806  0.0310 -0.0001  0.0047  0.0143 -0.0114\n",
       "201807  0.0263  0.0328  0.0223  0.0600  0.0390\n",
       "201808  0.0451 -0.0116  0.0658  0.0425  0.0227\n",
       "\n",
       "[464 rows x 5 columns]"
      ]
     },
     "execution_count": 95,
     "metadata": {},
     "output_type": "execute_result"
    }
   ],
   "source": [
    "df = pd.read_excel('Mark.xlsx', index_col = 0)\n",
    "df"
   ]
  },
  {
   "cell_type": "markdown",
   "id": "f77e4568-d7ac-48c0-a073-7b6b454f6fcf",
   "metadata": {},
   "source": [
    "## Returns, Standard Deviation and Covariance Matrix of the 5 industries"
   ]
  },
  {
   "cell_type": "code",
   "execution_count": 96,
   "id": "c320c566-d179-401c-af26-494e31c46e34",
   "metadata": {},
   "outputs": [
    {
     "data": {
      "text/plain": [
       "Cnsmr    0.117222\n",
       "Manuf    0.089736\n",
       "HiTec    0.110941\n",
       "Hlth     0.122625\n",
       "Other    0.101545\n",
       "dtype: float64"
      ]
     },
     "execution_count": 96,
     "metadata": {},
     "output_type": "execute_result"
    }
   ],
   "source": [
    "df_ind_rets = df.mean()*12\n",
    "df_ind_rets"
   ]
  },
  {
   "cell_type": "code",
   "execution_count": 97,
   "id": "5ab3bf87-4815-4e31-9d01-3c9ce232db30",
   "metadata": {},
   "outputs": [
    {
     "data": {
      "text/plain": [
       "Cnsmr    0.147453\n",
       "Manuf    0.147701\n",
       "HiTec    0.198928\n",
       "Hlth     0.158425\n",
       "Other    0.176133\n",
       "dtype: float64"
      ]
     },
     "execution_count": 97,
     "metadata": {},
     "output_type": "execute_result"
    }
   ],
   "source": [
    "df_ind_std = df.std() * (12**0.5)\n",
    "df_ind_std"
   ]
  },
  {
   "cell_type": "code",
   "execution_count": 98,
   "id": "f8fe07ff-36f5-441e-acd5-59030f318ba9",
   "metadata": {},
   "outputs": [
    {
     "data": {
      "text/html": [
       "<div>\n",
       "<style scoped>\n",
       "    .dataframe tbody tr th:only-of-type {\n",
       "        vertical-align: middle;\n",
       "    }\n",
       "\n",
       "    .dataframe tbody tr th {\n",
       "        vertical-align: top;\n",
       "    }\n",
       "\n",
       "    .dataframe thead th {\n",
       "        text-align: right;\n",
       "    }\n",
       "</style>\n",
       "<table border=\"1\" class=\"dataframe\">\n",
       "  <thead>\n",
       "    <tr style=\"text-align: right;\">\n",
       "      <th></th>\n",
       "      <th>Cnsmr</th>\n",
       "      <th>Manuf</th>\n",
       "      <th>HiTec</th>\n",
       "      <th>Hlth</th>\n",
       "      <th>Other</th>\n",
       "    </tr>\n",
       "  </thead>\n",
       "  <tbody>\n",
       "    <tr>\n",
       "      <th>Cnsmr</th>\n",
       "      <td>0.021742</td>\n",
       "      <td>0.016451</td>\n",
       "      <td>0.021177</td>\n",
       "      <td>0.017020</td>\n",
       "      <td>0.022361</td>\n",
       "    </tr>\n",
       "    <tr>\n",
       "      <th>Manuf</th>\n",
       "      <td>0.016451</td>\n",
       "      <td>0.021816</td>\n",
       "      <td>0.019670</td>\n",
       "      <td>0.013982</td>\n",
       "      <td>0.020993</td>\n",
       "    </tr>\n",
       "    <tr>\n",
       "      <th>HiTec</th>\n",
       "      <td>0.021177</td>\n",
       "      <td>0.019670</td>\n",
       "      <td>0.039572</td>\n",
       "      <td>0.018540</td>\n",
       "      <td>0.025276</td>\n",
       "    </tr>\n",
       "    <tr>\n",
       "      <th>Hlth</th>\n",
       "      <td>0.017020</td>\n",
       "      <td>0.013982</td>\n",
       "      <td>0.018540</td>\n",
       "      <td>0.025099</td>\n",
       "      <td>0.019146</td>\n",
       "    </tr>\n",
       "    <tr>\n",
       "      <th>Other</th>\n",
       "      <td>0.022361</td>\n",
       "      <td>0.020993</td>\n",
       "      <td>0.025276</td>\n",
       "      <td>0.019146</td>\n",
       "      <td>0.031023</td>\n",
       "    </tr>\n",
       "  </tbody>\n",
       "</table>\n",
       "</div>"
      ],
      "text/plain": [
       "          Cnsmr     Manuf     HiTec     Hlth      Other\n",
       "Cnsmr  0.021742  0.016451  0.021177  0.017020  0.022361\n",
       "Manuf  0.016451  0.021816  0.019670  0.013982  0.020993\n",
       "HiTec  0.021177  0.019670  0.039572  0.018540  0.025276\n",
       "Hlth   0.017020  0.013982  0.018540  0.025099  0.019146\n",
       "Other  0.022361  0.020993  0.025276  0.019146  0.031023"
      ]
     },
     "execution_count": 98,
     "metadata": {},
     "output_type": "execute_result"
    }
   ],
   "source": [
    "cov_matrix = df.cov() * 12\n",
    "cov_matrix"
   ]
  },
  {
   "cell_type": "markdown",
   "id": "611e0c19-c487-4242-a497-2a7f524c5979",
   "metadata": {},
   "source": [
    "## Equally wieghted portfolio"
   ]
  },
  {
   "cell_type": "code",
   "execution_count": 99,
   "id": "70760c82-839e-450e-9419-4e1694c4a445",
   "metadata": {},
   "outputs": [
    {
     "data": {
      "text/plain": [
       "array([0.2, 0.2, 0.2, 0.2, 0.2])"
      ]
     },
     "execution_count": 99,
     "metadata": {},
     "output_type": "execute_result"
    }
   ],
   "source": [
    "eq_weights = np.array((0.2, 0.2, 0.2, 0.2, 0.2))\n",
    "eq_weights"
   ]
  },
  {
   "cell_type": "code",
   "execution_count": 100,
   "id": "af2faa46-0c9a-4871-a7e2-06c9b7b2b3d3",
   "metadata": {},
   "outputs": [
    {
     "name": "stdout",
     "output_type": "stream",
     "text": [
      "Portfolio Return: 0.1084 - Portfolio Standard Deviation: 0.1454\n"
     ]
    }
   ],
   "source": [
    "eq_weights_ret = round(sum(eq_weights*df_ind_rets), 4)\n",
    "eq_weights_std = round((eq_weights @ cov_matrix @ np.transpose(eq_weights))**0.5, 4)\n",
    "print('Portfolio Return:', eq_weights_ret, '- Portfolio Standard Deviation:', eq_weights_std)"
   ]
  },
  {
   "cell_type": "code",
   "execution_count": 101,
   "id": "a8381898-77d7-47c5-8c1b-2d031b235fe8",
   "metadata": {},
   "outputs": [
    {
     "data": {
      "image/png": "[encoded data removed]",
      "text/plain": [
       "<Figure size 432x288 with 1 Axes>"
      ]
     },
     "metadata": {
      "needs_background": "light"
     },
     "output_type": "display_data"
    }
   ],
   "source": [
    "plt.scatter(df_ind_std, df_ind_rets)\n",
    "plt.scatter(eq_weights_std, eq_weights_ret)\n",
    "plt.xlabel('Standard deviation')\n",
    "plt.ylabel('Return');"
   ]
  },
  {
   "cell_type": "markdown",
   "id": "e5692bca-ca2d-4c29-acd5-20d869eb9733",
   "metadata": {},
   "source": [
    "## Optimization"
   ]
  },
  {
   "cell_type": "code",
   "execution_count": 110,
   "id": "aea1a1c6-0b2f-4b33-a724-c7a39093ec19",
   "metadata": {},
   "outputs": [
    {
     "data": {
      "text/plain": [
       "array([0.2, 0.2, 0.2, 0.2, 0.2])"
      ]
     },
     "execution_count": 110,
     "metadata": {},
     "output_type": "execute_result"
    }
   ],
   "source": [
    "#Define an initial guess for x \n",
    "x = np.array((0.2, 0.2, 0.2, 0.2, 0.2))\n",
    "x"
   ]
  },
  {
   "cell_type": "code",
   "execution_count": 111,
   "id": "e38cc0c4-a664-4c45-8a80-ecd3b20745b2",
   "metadata": {},
   "outputs": [],
   "source": [
    "# Create a variable with the arguments of the objective funtion\n",
    "args = (cov_matrix,)"
   ]
  },
  {
   "cell_type": "code",
   "execution_count": 112,
   "id": "ac52043d-7f95-4f97-9193-04e8d5851153",
   "metadata": {},
   "outputs": [],
   "source": [
    "# Set the bounds\n",
    "bounds = Bounds(-2, 2)"
   ]
  },
  {
   "cell_type": "code",
   "execution_count": 113,
   "id": "d073f720-7672-418d-9b26-f8e7cd687165",
   "metadata": {},
   "outputs": [],
   "source": [
    "# Define the objective function\n",
    "def objective_function(x, cov_matrix):\n",
    "    return (x @ cov_matrix @ np.transpose(x))**0.5"
   ]
  },
  {
   "cell_type": "code",
   "execution_count": 160,
   "id": "51084525-00ec-4958-9acc-14c4e9fd8485",
   "metadata": {},
   "outputs": [],
   "source": [
    "# Define the constraints (if you want to find the Global Minimum Variance Portfolio comment the second constraint)\n",
    "constraints = ({'type':'eq', 'fun': lambda x: np.sum(x) - 1},\n",
    "               #{'type':'eq', 'fun': lambda x: sum(x*df_ind_rets)- 0.07}\n",
    "              )"
   ]
  },
  {
   "cell_type": "code",
   "execution_count": 161,
   "id": "8d81a5aa-9f1e-4701-85a9-e39119f72a72",
   "metadata": {},
   "outputs": [],
   "source": [
    "# Use scipy optimizer to find the minimum\n",
    "res = optimize.minimize(objective_function, x, args=args, method='SLSQP', constraints=constraints, bounds=bounds)"
   ]
  },
  {
   "cell_type": "code",
   "execution_count": 162,
   "id": "cf1f08a4-239a-49ba-b875-79c494e8aa5d",
   "metadata": {},
   "outputs": [
    {
     "data": {
      "text/plain": [
       "     fun: 0.12982454398940707\n",
       "     jac: array([0.12985932, 0.12985124, 0.12959572, 0.12971332, 0.12985212])\n",
       " message: 'Optimization terminated successfully'\n",
       "    nfev: 90\n",
       "     nit: 15\n",
       "    njev: 15\n",
       "  status: 0\n",
       " success: True\n",
       "       x: array([ 0.54189385,  0.59670766, -0.05170353,  0.31852885, -0.40542684])"
      ]
     },
     "execution_count": 162,
     "metadata": {},
     "output_type": "execute_result"
    }
   ],
   "source": [
    "res"
   ]
  },
  {
   "cell_type": "markdown",
   "id": "eeeb1d8b-606a-4d09-a088-de0d8ef7db42",
   "metadata": {},
   "source": [
    "## Function creation and plotting"
   ]
  },
  {
   "cell_type": "code",
   "execution_count": 156,
   "id": "2d27390a-fdf8-47fa-a24c-7331ef9077b4",
   "metadata": {},
   "outputs": [],
   "source": [
    "def min_std(x, cov_matrix, bounds, args, ret):\n",
    "    def objective_function(x, cov_matrix):\n",
    "        return (x @ cov_matrix @ np.transpose(x))**0.5\n",
    "    \n",
    "    constraints = ({'type':'eq', 'fun': lambda x: np.sum(x) - 1},\n",
    "               {'type':'eq', 'fun': lambda x: sum(x*df_ind_rets) - ret}\n",
    "              )\n",
    "    \n",
    "    res = optimize.minimize(objective_function, x, args=args, method='SLSQP', constraints=constraints, bounds=bounds)\n",
    "    return res.fun"
   ]
  },
  {
   "cell_type": "code",
   "execution_count": 159,
   "id": "801eb2ca-a319-4194-9315-ab8e6ea90826",
   "metadata": {},
   "outputs": [
    {
     "data": {
      "text/plain": [
       "0.12984307123238625"
      ]
     },
     "execution_count": 159,
     "metadata": {},
     "output_type": "execute_result"
    }
   ],
   "source": [
    "min_std(x, cov_matrix, bounds, args, ret=0.1099)"
   ]
  },
  {
   "cell_type": "code",
   "execution_count": 68,
   "id": "7291ede9-a87e-453c-9fb2-efe0dfcbfbf0",
   "metadata": {},
   "outputs": [],
   "source": [
    "opt_std = []\n",
    "for i in np.arange(0.07, 0.15, 0.005):\n",
    "    m = min_std(x, cov_matrix, bounds, args, ret=i)\n",
    "    opt_std.append(m)"
   ]
  },
  {
   "cell_type": "code",
   "execution_count": 69,
   "id": "cf9b58fa-8777-45da-a69d-edaf668539eb",
   "metadata": {},
   "outputs": [
    {
     "data": {
      "image/png": "[encoded data removed]",
      "text/plain": [
       "<Figure size 432x288 with 1 Axes>"
      ]
     },
     "metadata": {
      "needs_background": "light"
     },
     "output_type": "display_data"
    }
   ],
   "source": [
    "plt.scatter(opt_std, np.arange(0.07, 0.15, 0.005), c='green');\n",
    "plt.scatter(df_ind_std, df_ind_rets, c='hotpink')\n",
    "plt.scatter(eq_weights_std, eq_weights_ret, c='blue')\n",
    "plt.xlabel('Standard deviation')\n",
    "plt.ylabel('Return');\n",
    "plt.legend(['Efficient frontier', 'Industries', 'Equal weight']);"
   ]
  },
  {
   "cell_type": "markdown",
   "id": "1f70c3c7-971f-401d-94c0-97b168641ac0",
   "metadata": {},
   "source": [
    "## No short selling "
   ]
  },
  {
   "cell_type": "code",
   "execution_count": 70,
   "id": "1bb74e02-a51c-4979-82ac-3c26829586c5",
   "metadata": {},
   "outputs": [],
   "source": [
    "# Set the bounds\n",
    "bnds_no_short = Bounds(0, 1)"
   ]
  },
  {
   "cell_type": "code",
   "execution_count": 71,
   "id": "4d7a470b-f11d-43ec-a3df-d3913b643798",
   "metadata": {},
   "outputs": [],
   "source": [
    "# Define the constraints (if you want to find the Global Minimum Variance Portfolio comment the second constraint)\n",
    "cons = ({'type':'eq', 'fun': lambda x: np.sum(x) - 1},\n",
    "        {'type':'eq', 'fun': lambda x: sum(x*df_ind_rets) - 0.09}\n",
    "        )"
   ]
  },
  {
   "cell_type": "code",
   "execution_count": 72,
   "id": "4d073ed0-4a80-4320-a5d8-4b3d423accea",
   "metadata": {},
   "outputs": [],
   "source": [
    "# Use scipy optimizer to find the minimum\n",
    "res = optimize.minimize(objective_function, x, args=args, method='SLSQP', constraints=cons, bounds=bnds_no_short)"
   ]
  },
  {
   "cell_type": "code",
   "execution_count": 73,
   "id": "afde2936-1bf9-4406-8e4d-5dbcec15a098",
   "metadata": {},
   "outputs": [
    {
     "data": {
      "text/plain": [
       "     fun: 0.1472796174380345\n",
       "     jac: array([0.11172847, 0.14769795, 0.13349329, 0.09554162, 0.1424361 ])\n",
       " message: 'Optimization terminated successfully'\n",
       "    nfev: 24\n",
       "     nit: 4\n",
       "    njev: 4\n",
       "  status: 0\n",
       " success: True\n",
       "       x: array([0.00000000e+00, 9.91979240e-01, 5.79843695e-18, 8.02075995e-03,\n",
       "       0.00000000e+00])"
      ]
     },
     "execution_count": 73,
     "metadata": {},
     "output_type": "execute_result"
    }
   ],
   "source": [
    "res"
   ]
  },
  {
   "cell_type": "markdown",
   "id": "67d28d4d-5e7f-464c-b500-9e1f20c1456f",
   "metadata": {},
   "source": [
    "## Two funds separation theorem"
   ]
  },
  {
   "cell_type": "code",
   "execution_count": 78,
   "id": "6c4f1b8d-746b-4c3b-9b15-ff9186065141",
   "metadata": {},
   "outputs": [],
   "source": [
    "cons = ({'type':'eq', 'fun': lambda x: np.sum(x) - 1})\n",
    "res = optimize.minimize(objective_function, x, args=args, method='SLSQP', constraints=cons, bounds=bounds)"
   ]
  },
  {
   "cell_type": "code",
   "execution_count": 163,
   "id": "ab5f69e1-0bd0-48e7-aa07-19c6d330ccd5",
   "metadata": {},
   "outputs": [],
   "source": [
    "GMVP = res.x"
   ]
  },
  {
   "cell_type": "code",
   "execution_count": null,
   "id": "12eed5e4-814c-42a7-be39-a832d4bd52b3",
   "metadata": {},
   "outputs": [],
   "source": []
  }
 ],
 "metadata": {
  "kernelspec": {
   "display_name": "Python 3 (ipykernel)",
   "language": "python",
   "name": "python3"
  },
  "language_info": {
   "codemirror_mode": {
    "name": "ipython",
    "version": 3
   },
   "file_extension": ".py",
   "mimetype": "text/x-python",
   "name": "python",
   "nbconvert_exporter": "python",
   "pygments_lexer": "ipython3",
   "version": "3.9.12"
  }
 },
 "nbformat": 4,
 "nbformat_minor": 5
}
